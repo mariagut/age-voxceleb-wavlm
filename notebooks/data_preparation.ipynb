{
 "cells": [
  {
   "cell_type": "code",
   "execution_count": 1,
   "id": "737bdcd1",
   "metadata": {},
   "outputs": [],
   "source": [
    "# Those steps are forked from https://github.com/hechmik/voxceleb_enrichment_age_gender/tree/main/notebooks"
   ]
  },
  {
   "cell_type": "code",
   "execution_count": 1,
   "id": "6d1c0d2d",
   "metadata": {},
   "outputs": [],
   "source": [
    "# audio data downloaded from https://www.robots.ox.ac.uk/~vgg/data/voxceleb/"
   ]
  },
  {
   "cell_type": "code",
   "execution_count": 2,
   "id": "67a1dbac",
   "metadata": {},
   "outputs": [],
   "source": [
    "! export KALDI_DIR=/home/dorota/research/kaldi\n"
   ]
  },
  {
   "cell_type": "code",
   "execution_count": 3,
   "id": "4f9fbc37",
   "metadata": {},
   "outputs": [],
   "source": [
    "import kaldi\n",
    "import json\n",
    "from sklearn.preprocessing import LabelEncoder\n",
    "from sklearn.model_selection import KFold\n",
    "import sys\n",
    "sys.path.append(\"asvtorch\")\n",
    "sys.path.append(\"asvtorch/asvtorch\")\n",
    "\n",
    "from src.utterances.utterance_list import UtteranceList\n",
    "import numpy as np\n",
    "import itertools\n",
    "import pandas as pd"
   ]
  },
  {
   "cell_type": "code",
   "execution_count": 4,
   "id": "13d7d5b4",
   "metadata": {},
   "outputs": [
    {
     "data": {
      "text/plain": [
       "(1690, 1127)"
      ]
     },
     "execution_count": 4,
     "metadata": {},
     "output_type": "execute_result"
    }
   ],
   "source": [
    "train_metadata = pd.read_csv('age-train.txt')\n",
    "test_metadata = pd.read_csv('age-test.txt')\n",
    "\n",
    "train_metadata['vox_yt_ids'] = train_metadata['VoxCeleb_ID'] + '-' + train_metadata['video_id']\n",
    "train_vox_yt = list(train_metadata.vox_yt_ids)\n",
    "\n",
    "test_metadata['vox_yt_ids'] = test_metadata['VoxCeleb_ID'] + '-' + test_metadata['video_id']\n",
    "test_vox_yt = list(test_metadata.vox_yt_ids)\n",
    "\n",
    "len(train_vox_yt), len(test_vox_yt)"
   ]
  },
  {
   "cell_type": "code",
   "execution_count": 5,
   "id": "e1a691da",
   "metadata": {},
   "outputs": [
    {
     "name": "stdout",
     "output_type": "stream",
     "text": [
      "Loading: /media/dorota/data2024/voxceleb_outputs/system1/utterances/trial_embeddings_backup.pickle\n",
      "Loaded (11.503 s): /media/dorota/data2024/voxceleb_outputs/system1/utterances/trial_embeddings_backup.pickle\n"
     ]
    }
   ],
   "source": [
    "folder = \"/media/dorota/data2024/voxceleb_outputs/system1/utterances\"\n",
    "label = \"trial_embeddings_backup\"\n",
    "plda_data = UtteranceList.load(label, folder)"
   ]
  },
  {
   "cell_type": "code",
   "execution_count": 6,
   "id": "4c8a6261",
   "metadata": {},
   "outputs": [],
   "source": [
    "train = []\n",
    "test = []\n",
    "train_indexes = []\n",
    "plda_vox_yt_id = []\n",
    "test_indexes = []\n",
    "test_plda_vox_yt_id = []\n",
    "for i, voxID_video_id in enumerate(plda_data.get_utt_labels()):\n",
    "    # Let's now remove the \"recording\" info from voxID-YT id\n",
    "    current_id = \"-\".join(voxID_video_id.split(\"-\")[0:-1])\n",
    "\n",
    "    d={}\n",
    "    d[\"voxID_video_id\"]=voxID_video_id\n",
    "    \n",
    "    idx = voxID_video_id.rfind(\"-\")\n",
    "    id_us_vid = voxID_video_id[:idx]\n",
    "    \n",
    "    d[\"VoxCeleb_ID\"]=voxID_video_id.split(\"-\")[0]\n",
    "    d[\"video_id\"]=voxID_video_id.split(\"-\")[1]\n",
    "    d[\"recording\"]=voxID_video_id.split(\"-\")[2]\n",
    "    \n",
    "    idx1 = voxID_video_id.find(\"-\")\n",
    "    p1=voxID_video_id[idx1+1:]\n",
    "    idx2 = p1.rfind(\"-\")\n",
    "    p1[:idx2]\n",
    "    \n",
    "    path = voxID_video_id.split(\"-\")[0] +\"/\" + p1[:idx2] + \"/\" +  voxID_video_id[idx+1:] +\".m4a\"\n",
    "    \n",
    "    file_id = \"/home/dorota/research/voxceleb2_joined/dev/aac/\"+path\n",
    "    d[\"path\"]=file_id\n",
    "    sp_vid = \"-\".join(voxID_video_id.split(\"-\")[:-1])\n",
    "    if current_id in train_vox_yt:\n",
    "        d[\"subset\"]=\"train\"\n",
    "        \n",
    "        speaker_age = train_metadata[train_metadata['vox_yt_ids'] == id_us_vid].speaker_age.item()\n",
    "        d[\"age\"]=speaker_age\n",
    "        train.append(d)\n",
    "        plda_vox_yt_id.append(current_id)\n",
    "    elif current_id in test_vox_yt:\n",
    "        d[\"subset\"]=\"test\"\n",
    "        speaker_age = test_metadata[test_metadata['vox_yt_ids'] == id_us_vid].speaker_age.item()\n",
    "        d[\"age\"]=speaker_age\n",
    "        test.append(d)\n",
    "        test_plda_vox_yt_id.append(current_id) "
   ]
  },
  {
   "cell_type": "code",
   "execution_count": 7,
   "id": "c5c7305e",
   "metadata": {},
   "outputs": [],
   "source": [
    "train = pd.DataFrame(train)\n",
    "test = pd.DataFrame(test)"
   ]
  },
  {
   "cell_type": "code",
   "execution_count": 8,
   "id": "5e4fb355",
   "metadata": {},
   "outputs": [
    {
     "data": {
      "text/plain": [
       "((12722, 7), (8602, 7))"
      ]
     },
     "execution_count": 8,
     "metadata": {},
     "output_type": "execute_result"
    }
   ],
   "source": [
    "train.shape, test.shape"
   ]
  },
  {
   "cell_type": "code",
   "execution_count": 9,
   "id": "8543ae98",
   "metadata": {},
   "outputs": [
    {
     "data": {
      "text/plain": [
       "(12722, 8602)"
      ]
     },
     "execution_count": 9,
     "metadata": {},
     "output_type": "execute_result"
    }
   ],
   "source": [
    "len(plda_vox_yt_id), len(test_plda_vox_yt_id)"
   ]
  },
  {
   "cell_type": "code",
   "execution_count": 10,
   "id": "00f2fabd",
   "metadata": {},
   "outputs": [
    {
     "data": {
      "text/html": [
       "<div>\n",
       "<style scoped>\n",
       "    .dataframe tbody tr th:only-of-type {\n",
       "        vertical-align: middle;\n",
       "    }\n",
       "\n",
       "    .dataframe tbody tr th {\n",
       "        vertical-align: top;\n",
       "    }\n",
       "\n",
       "    .dataframe thead th {\n",
       "        text-align: right;\n",
       "    }\n",
       "</style>\n",
       "<table border=\"1\" class=\"dataframe\">\n",
       "  <thead>\n",
       "    <tr style=\"text-align: right;\">\n",
       "      <th></th>\n",
       "      <th>voxID_video_id</th>\n",
       "      <th>VoxCeleb_ID</th>\n",
       "      <th>video_id</th>\n",
       "      <th>recording</th>\n",
       "      <th>path</th>\n",
       "      <th>subset</th>\n",
       "      <th>age</th>\n",
       "    </tr>\n",
       "  </thead>\n",
       "  <tbody>\n",
       "    <tr>\n",
       "      <th>0</th>\n",
       "      <td>id08110-jpyddhVD_os-00157</td>\n",
       "      <td>id08110</td>\n",
       "      <td>jpyddhVD_os</td>\n",
       "      <td>00157</td>\n",
       "      <td>/home/dorota/research/voxceleb2_joined/dev/aac...</td>\n",
       "      <td>train</td>\n",
       "      <td>40.0</td>\n",
       "    </tr>\n",
       "    <tr>\n",
       "      <th>1</th>\n",
       "      <td>id02273-IjorVdJcHfs-00008</td>\n",
       "      <td>id02273</td>\n",
       "      <td>IjorVdJcHfs</td>\n",
       "      <td>00008</td>\n",
       "      <td>/home/dorota/research/voxceleb2_joined/dev/aac...</td>\n",
       "      <td>train</td>\n",
       "      <td>62.0</td>\n",
       "    </tr>\n",
       "    <tr>\n",
       "      <th>2</th>\n",
       "      <td>id08699-SuDPOMMK124-00152</td>\n",
       "      <td>id08699</td>\n",
       "      <td>SuDPOMMK124</td>\n",
       "      <td>00152</td>\n",
       "      <td>/home/dorota/research/voxceleb2_joined/dev/aac...</td>\n",
       "      <td>train</td>\n",
       "      <td>45.0</td>\n",
       "    </tr>\n",
       "    <tr>\n",
       "      <th>3</th>\n",
       "      <td>id09049-O2DWjBBML0o-00144</td>\n",
       "      <td>id09049</td>\n",
       "      <td>O2DWjBBML0o</td>\n",
       "      <td>00144</td>\n",
       "      <td>/home/dorota/research/voxceleb2_joined/dev/aac...</td>\n",
       "      <td>train</td>\n",
       "      <td>43.0</td>\n",
       "    </tr>\n",
       "    <tr>\n",
       "      <th>4</th>\n",
       "      <td>id01617-LjDFACM2G0E-00104</td>\n",
       "      <td>id01617</td>\n",
       "      <td>LjDFACM2G0E</td>\n",
       "      <td>00104</td>\n",
       "      <td>/home/dorota/research/voxceleb2_joined/dev/aac...</td>\n",
       "      <td>train</td>\n",
       "      <td>36.0</td>\n",
       "    </tr>\n",
       "  </tbody>\n",
       "</table>\n",
       "</div>"
      ],
      "text/plain": [
       "              voxID_video_id VoxCeleb_ID     video_id recording  \\\n",
       "0  id08110-jpyddhVD_os-00157     id08110  jpyddhVD_os     00157   \n",
       "1  id02273-IjorVdJcHfs-00008     id02273  IjorVdJcHfs     00008   \n",
       "2  id08699-SuDPOMMK124-00152     id08699  SuDPOMMK124     00152   \n",
       "3  id09049-O2DWjBBML0o-00144     id09049  O2DWjBBML0o     00144   \n",
       "4  id01617-LjDFACM2G0E-00104     id01617  LjDFACM2G0E     00104   \n",
       "\n",
       "                                                path subset   age  \n",
       "0  /home/dorota/research/voxceleb2_joined/dev/aac...  train  40.0  \n",
       "1  /home/dorota/research/voxceleb2_joined/dev/aac...  train  62.0  \n",
       "2  /home/dorota/research/voxceleb2_joined/dev/aac...  train  45.0  \n",
       "3  /home/dorota/research/voxceleb2_joined/dev/aac...  train  43.0  \n",
       "4  /home/dorota/research/voxceleb2_joined/dev/aac...  train  36.0  "
      ]
     },
     "execution_count": 10,
     "metadata": {},
     "output_type": "execute_result"
    }
   ],
   "source": [
    "train.head()"
   ]
  },
  {
   "cell_type": "code",
   "execution_count": 11,
   "id": "8b7df45f",
   "metadata": {},
   "outputs": [
    {
     "data": {
      "text/html": [
       "<div>\n",
       "<style scoped>\n",
       "    .dataframe tbody tr th:only-of-type {\n",
       "        vertical-align: middle;\n",
       "    }\n",
       "\n",
       "    .dataframe tbody tr th {\n",
       "        vertical-align: top;\n",
       "    }\n",
       "\n",
       "    .dataframe thead th {\n",
       "        text-align: right;\n",
       "    }\n",
       "</style>\n",
       "<table border=\"1\" class=\"dataframe\">\n",
       "  <thead>\n",
       "    <tr style=\"text-align: right;\">\n",
       "      <th></th>\n",
       "      <th>voxID_video_id</th>\n",
       "      <th>VoxCeleb_ID</th>\n",
       "      <th>video_id</th>\n",
       "      <th>recording</th>\n",
       "      <th>path</th>\n",
       "      <th>subset</th>\n",
       "      <th>age</th>\n",
       "    </tr>\n",
       "  </thead>\n",
       "  <tbody>\n",
       "    <tr>\n",
       "      <th>0</th>\n",
       "      <td>id06726-s2lysJWkjus-00184</td>\n",
       "      <td>id06726</td>\n",
       "      <td>s2lysJWkjus</td>\n",
       "      <td>00184</td>\n",
       "      <td>/home/dorota/research/voxceleb2_joined/dev/aac...</td>\n",
       "      <td>test</td>\n",
       "      <td>66.0</td>\n",
       "    </tr>\n",
       "    <tr>\n",
       "      <th>1</th>\n",
       "      <td>id02004-yaL6gPvSDe8-00341</td>\n",
       "      <td>id02004</td>\n",
       "      <td>yaL6gPvSDe8</td>\n",
       "      <td>00341</td>\n",
       "      <td>/home/dorota/research/voxceleb2_joined/dev/aac...</td>\n",
       "      <td>test</td>\n",
       "      <td>68.0</td>\n",
       "    </tr>\n",
       "    <tr>\n",
       "      <th>2</th>\n",
       "      <td>id05660-YCTHKUYmAqU-00049</td>\n",
       "      <td>id05660</td>\n",
       "      <td>YCTHKUYmAqU</td>\n",
       "      <td>00049</td>\n",
       "      <td>/home/dorota/research/voxceleb2_joined/dev/aac...</td>\n",
       "      <td>test</td>\n",
       "      <td>78.0</td>\n",
       "    </tr>\n",
       "    <tr>\n",
       "      <th>3</th>\n",
       "      <td>id05660-YCTHKUYmAqU-00047</td>\n",
       "      <td>id05660</td>\n",
       "      <td>YCTHKUYmAqU</td>\n",
       "      <td>00047</td>\n",
       "      <td>/home/dorota/research/voxceleb2_joined/dev/aac...</td>\n",
       "      <td>test</td>\n",
       "      <td>78.0</td>\n",
       "    </tr>\n",
       "    <tr>\n",
       "      <th>4</th>\n",
       "      <td>id00032-ExrjgBxENmo-00042</td>\n",
       "      <td>id00032</td>\n",
       "      <td>ExrjgBxENmo</td>\n",
       "      <td>00042</td>\n",
       "      <td>/home/dorota/research/voxceleb2_joined/dev/aac...</td>\n",
       "      <td>test</td>\n",
       "      <td>35.0</td>\n",
       "    </tr>\n",
       "  </tbody>\n",
       "</table>\n",
       "</div>"
      ],
      "text/plain": [
       "              voxID_video_id VoxCeleb_ID     video_id recording  \\\n",
       "0  id06726-s2lysJWkjus-00184     id06726  s2lysJWkjus     00184   \n",
       "1  id02004-yaL6gPvSDe8-00341     id02004  yaL6gPvSDe8     00341   \n",
       "2  id05660-YCTHKUYmAqU-00049     id05660  YCTHKUYmAqU     00049   \n",
       "3  id05660-YCTHKUYmAqU-00047     id05660  YCTHKUYmAqU     00047   \n",
       "4  id00032-ExrjgBxENmo-00042     id00032  ExrjgBxENmo     00042   \n",
       "\n",
       "                                                path subset   age  \n",
       "0  /home/dorota/research/voxceleb2_joined/dev/aac...   test  66.0  \n",
       "1  /home/dorota/research/voxceleb2_joined/dev/aac...   test  68.0  \n",
       "2  /home/dorota/research/voxceleb2_joined/dev/aac...   test  78.0  \n",
       "3  /home/dorota/research/voxceleb2_joined/dev/aac...   test  78.0  \n",
       "4  /home/dorota/research/voxceleb2_joined/dev/aac...   test  35.0  "
      ]
     },
     "execution_count": 11,
     "metadata": {},
     "output_type": "execute_result"
    }
   ],
   "source": [
    "test.head()"
   ]
  },
  {
   "cell_type": "code",
   "execution_count": 12,
   "id": "599a2672",
   "metadata": {},
   "outputs": [],
   "source": [
    "train.to_csv(\"train.csv\")"
   ]
  },
  {
   "cell_type": "code",
   "execution_count": 13,
   "id": "66df1dc7",
   "metadata": {},
   "outputs": [],
   "source": [
    "test.to_csv(\"test.csv\")"
   ]
  },
  {
   "cell_type": "code",
   "execution_count": null,
   "id": "ae7c7291",
   "metadata": {},
   "outputs": [],
   "source": []
  }
 ],
 "metadata": {
  "kernelspec": {
   "display_name": "Python 3 (ipykernel)",
   "language": "python",
   "name": "python3"
  },
  "language_info": {
   "codemirror_mode": {
    "name": "ipython",
    "version": 3
   },
   "file_extension": ".py",
   "mimetype": "text/x-python",
   "name": "python",
   "nbconvert_exporter": "python",
   "pygments_lexer": "ipython3",
   "version": "3.12.3"
  },
  "toc": {
   "base_numbering": 1,
   "nav_menu": {},
   "number_sections": true,
   "sideBar": true,
   "skip_h1_title": false,
   "title_cell": "Table of Contents",
   "title_sidebar": "Contents",
   "toc_cell": false,
   "toc_position": {},
   "toc_section_display": true,
   "toc_window_display": false
  },
  "varInspector": {
   "cols": {
    "lenName": 16,
    "lenType": 16,
    "lenVar": 40
   },
   "kernels_config": {
    "python": {
     "delete_cmd_postfix": "",
     "delete_cmd_prefix": "del ",
     "library": "var_list.py",
     "varRefreshCmd": "print(var_dic_list())"
    },
    "r": {
     "delete_cmd_postfix": ") ",
     "delete_cmd_prefix": "rm(",
     "library": "var_list.r",
     "varRefreshCmd": "cat(var_dic_list()) "
    }
   },
   "types_to_exclude": [
    "module",
    "function",
    "builtin_function_or_method",
    "instance",
    "_Feature"
   ],
   "window_display": false
  }
 },
 "nbformat": 4,
 "nbformat_minor": 5
}
